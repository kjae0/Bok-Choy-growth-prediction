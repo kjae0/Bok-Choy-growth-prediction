{
 "cells": [
  {
   "cell_type": "markdown",
   "metadata": {},
   "source": [
    "청경채 성장 예측 AI 경진대회"
   ]
  },
  {
   "cell_type": "markdown",
   "metadata": {},
   "source": [
    "- 개발환경\n",
    "\n",
    "Window, Local cpu"
   ]
  },
  {
   "cell_type": "markdown",
   "metadata": {},
   "source": [
    "- 라이브러리 버전"
   ]
  },
  {
   "cell_type": "code",
   "execution_count": 16,
   "metadata": {},
   "outputs": [
    {
     "name": "stdout",
     "output_type": "stream",
     "text": [
      "python version : 3.9.2 (tags/v3.9.2:1a79785, Feb 19 2021, 13:44:55) [MSC v.1928 64 bit (AMD64)]\n",
      "pandas version : 1.4.0\n"
     ]
    }
   ],
   "source": [
    "import sys\n",
    "import pandas as pd\n",
    "import matplotlib.pyplot as plt\n",
    "\n",
    "print(f'python version : {sys.version}')\n",
    "print(f'pandas version : {pd.__version__}')"
   ]
  },
  {
   "cell_type": "markdown",
   "metadata": {},
   "source": [
    "- 데이터 경로\n",
    "\n",
    "train target : \n",
    "../data/open/train_target/CASE_01.csv ...\n",
    "\n",
    "submission : \n",
    "../submission/TEST_01.csv ...\n",
    "(submission 예시 csv 파일입니다.)"
   ]
  },
  {
   "cell_type": "markdown",
   "metadata": {},
   "source": [
    "\n",
    "- 훈련 및 추론 코드\n",
    "\n",
    "submission_code.ipynb"
   ]
  },
  {
   "cell_type": "markdown",
   "metadata": {},
   "source": [
    "- 코드 간단 설명\n",
    "\n",
    "1. train_target csv 파일에서 outlier로서 작용할 수 있는 데이터를 scaling했습니다.\n",
    "2. scaling된 data로 평균값을 낸 후, 이 평균값을 그대로 모든 테스트 케이스에 대해 동일하게 적용했습니다."
   ]
  },
  {
   "cell_type": "code",
   "execution_count": 17,
   "metadata": {
    "pycharm": {
     "is_executing": true,
     "name": "#%%\n"
    }
   },
   "outputs": [],
   "source": [
    "import pandas as pd\n",
    "import os"
   ]
  },
  {
   "cell_type": "code",
   "execution_count": 18,
   "metadata": {
    "pycharm": {
     "name": "#%%\n"
    }
   },
   "outputs": [],
   "source": [
    "# warning -> off\n",
    "pd.set_option('mode.chained_assignment',  None)\n",
    "\n",
    "# csv file loading\n",
    "def loadCsv(csv_dir, name):\n",
    "    dir = os.path.join(csv_dir, name)\n",
    "    file_names = os.listdir(dir)\n",
    "    dfs = []\n",
    "    \n",
    "    for file_name in file_names:\n",
    "        df = pd.read_csv(os.path.join(dir, file_name))\n",
    "        dfs.append(df)    \n",
    "    return dfs\n",
    "\n",
    "# scaling loaded data\n",
    "# scale if rate is over threshold (threshold=2)\n",
    "def loadPreprocessedTarget(csv_dir, name, split_per_day=True, threshold=2):\n",
    "    targets = loadCsv(csv_dir, name)\n",
    "    \n",
    "    if split_per_day:\n",
    "        splitted = []\n",
    "        for target in targets:\n",
    "            for rate in target['rate']:\n",
    "                splitted.append(rate)\n",
    "        targets = splitted\n",
    "    \n",
    "    if split_per_day:\n",
    "        for idx, target in enumerate(targets):\n",
    "            if target>10:\n",
    "                targets[idx] /=100\n",
    "            elif target>threshold:\n",
    "                targets[idx] /= 10\n",
    "    else:\n",
    "        for idx, target in enumerate(targets):\n",
    "            for i in range(len(target)):\n",
    "                if target['rate'].iloc[i]>10:\n",
    "                    target['rate'].iloc[i] /=100\n",
    "                elif target['rate'].iloc[i]>threshold:\n",
    "                    target['rate'].iloc[i] /= 10\n",
    "                elif target['rate'].iloc[i]<-0.9:\n",
    "                    target['rate'].iloc[i] /= 10\n",
    "    return targets\n",
    "\n",
    "# load scaled target data\n",
    "\n",
    "csv_dir = \"C://Users/rlawo/Desktop/Dacon/brassica_prediction/data/open\"\n",
    "targets = loadPreprocessedTarget(csv_dir, name=\"train_target\", split_per_day=False, threshold=5)"
   ]
  },
  {
   "cell_type": "code",
   "execution_count": 19,
   "metadata": {
    "pycharm": {
     "name": "#%%\n"
    }
   },
   "outputs": [],
   "source": [
    "max_len = max([len(target) for target in targets])\n",
    "total_sum = [0 for i in range(max_len)]\n",
    "count = [0 for i in range(max_len)]\n",
    "\n",
    "for target in targets:\n",
    "    for idx, rate in enumerate(target['rate']):\n",
    "        total_sum[idx] += rate\n",
    "        count[idx] += 1\n",
    "\n",
    "# get mean of all target data\n",
    "mean = [total_sum[i]/count[i] for i in range(max_len)]"
   ]
  },
  {
   "cell_type": "code",
   "execution_count": 20,
   "metadata": {
    "pycharm": {
     "name": "#%%\n"
    }
   },
   "outputs": [],
   "source": [
    "# load submission csv files\n",
    "\n",
    "\n",
    "csv_dir = \"C://Users/rlawo/Desktop/Dacon/brassica_prediction/submission\"\n",
    "file_names = os.listdir(csv_dir)\n",
    "\n",
    "remove_lst = []\n",
    "for file_name in file_names:\n",
    "    if file_name[-4:]=='.zip':\n",
    "        remove_lst.append(file_name)\n",
    "for r in remove_lst:\n",
    "    file_names.remove(r)  \n",
    "\n",
    "submissions = []\n",
    "\n",
    "for file_name in file_names:\n",
    "    submission = pd.read_csv(os.path.join(csv_dir, file_name))\n",
    "    submissions.append(submission)"
   ]
  },
  {
   "cell_type": "code",
   "execution_count": 21,
   "metadata": {
    "pycharm": {
     "name": "#%%\n"
    }
   },
   "outputs": [],
   "source": [
    "# replace submission csv 'rate' column to mean list\n",
    "\n",
    "for n, submission in enumerate(submissions):\n",
    "    if n==3:\n",
    "        submission['rate'] = mean[3:len(submission)+3]\n",
    "    submission['rate'] = mean[:len(submission)]"
   ]
  },
  {
   "cell_type": "code",
   "execution_count": 22,
   "metadata": {
    "pycharm": {
     "name": "#%%\n"
    }
   },
   "outputs": [],
   "source": [
    "save_dir = \"C://Users/rlawo/Desktop/Dacon/brassica_prediction/submission\"\n",
    "for idx, submission in enumerate(submissions):\n",
    "    submission.to_csv(os.path.join(save_dir, \"TEST_{0:02d}.csv\".format(idx+1)), index=False)"
   ]
  },
  {
   "cell_type": "code",
   "execution_count": 24,
   "metadata": {},
   "outputs": [
    {
     "data": {
      "text/html": [
       "<div>\n",
       "<style scoped>\n",
       "    .dataframe tbody tr th:only-of-type {\n",
       "        vertical-align: middle;\n",
       "    }\n",
       "\n",
       "    .dataframe tbody tr th {\n",
       "        vertical-align: top;\n",
       "    }\n",
       "\n",
       "    .dataframe thead th {\n",
       "        text-align: right;\n",
       "    }\n",
       "</style>\n",
       "<table border=\"1\" class=\"dataframe\">\n",
       "  <thead>\n",
       "    <tr style=\"text-align: right;\">\n",
       "      <th></th>\n",
       "      <th>시간</th>\n",
       "      <th>rate</th>\n",
       "    </tr>\n",
       "  </thead>\n",
       "  <tbody>\n",
       "    <tr>\n",
       "      <th>0</th>\n",
       "      <td>2021-03-27 00:00:00</td>\n",
       "      <td>0.760192</td>\n",
       "    </tr>\n",
       "    <tr>\n",
       "      <th>1</th>\n",
       "      <td>2021-03-28 00:00:00</td>\n",
       "      <td>0.607472</td>\n",
       "    </tr>\n",
       "    <tr>\n",
       "      <th>2</th>\n",
       "      <td>2021-03-29 00:00:00</td>\n",
       "      <td>0.482737</td>\n",
       "    </tr>\n",
       "    <tr>\n",
       "      <th>3</th>\n",
       "      <td>2021-03-30 00:00:00</td>\n",
       "      <td>0.285438</td>\n",
       "    </tr>\n",
       "    <tr>\n",
       "      <th>4</th>\n",
       "      <td>2021-03-31 00:00:00</td>\n",
       "      <td>0.382718</td>\n",
       "    </tr>\n",
       "    <tr>\n",
       "      <th>5</th>\n",
       "      <td>2021-04-01 00:00:00</td>\n",
       "      <td>0.325967</td>\n",
       "    </tr>\n",
       "    <tr>\n",
       "      <th>6</th>\n",
       "      <td>2021-04-02 00:00:00</td>\n",
       "      <td>0.309607</td>\n",
       "    </tr>\n",
       "    <tr>\n",
       "      <th>7</th>\n",
       "      <td>2021-04-03 00:00:00</td>\n",
       "      <td>0.348668</td>\n",
       "    </tr>\n",
       "    <tr>\n",
       "      <th>8</th>\n",
       "      <td>2021-04-04 00:00:00</td>\n",
       "      <td>0.377246</td>\n",
       "    </tr>\n",
       "    <tr>\n",
       "      <th>9</th>\n",
       "      <td>2021-04-05 00:00:00</td>\n",
       "      <td>0.335703</td>\n",
       "    </tr>\n",
       "    <tr>\n",
       "      <th>10</th>\n",
       "      <td>2021-04-06 00:00:00</td>\n",
       "      <td>0.368986</td>\n",
       "    </tr>\n",
       "    <tr>\n",
       "      <th>11</th>\n",
       "      <td>2021-04-07 00:00:00</td>\n",
       "      <td>0.322988</td>\n",
       "    </tr>\n",
       "    <tr>\n",
       "      <th>12</th>\n",
       "      <td>2021-04-08 00:00:00</td>\n",
       "      <td>0.327939</td>\n",
       "    </tr>\n",
       "    <tr>\n",
       "      <th>13</th>\n",
       "      <td>2021-04-09 00:00:00</td>\n",
       "      <td>0.279908</td>\n",
       "    </tr>\n",
       "    <tr>\n",
       "      <th>14</th>\n",
       "      <td>2021-04-10 00:00:00</td>\n",
       "      <td>0.289037</td>\n",
       "    </tr>\n",
       "    <tr>\n",
       "      <th>15</th>\n",
       "      <td>2021-04-11 00:00:00</td>\n",
       "      <td>0.272394</td>\n",
       "    </tr>\n",
       "    <tr>\n",
       "      <th>16</th>\n",
       "      <td>2021-04-12 00:00:00</td>\n",
       "      <td>0.235984</td>\n",
       "    </tr>\n",
       "    <tr>\n",
       "      <th>17</th>\n",
       "      <td>2021-04-13 00:00:00</td>\n",
       "      <td>0.211420</td>\n",
       "    </tr>\n",
       "    <tr>\n",
       "      <th>18</th>\n",
       "      <td>2021-04-14 00:00:00</td>\n",
       "      <td>0.213869</td>\n",
       "    </tr>\n",
       "    <tr>\n",
       "      <th>19</th>\n",
       "      <td>2021-04-15 00:00:00</td>\n",
       "      <td>0.179065</td>\n",
       "    </tr>\n",
       "    <tr>\n",
       "      <th>20</th>\n",
       "      <td>2021-04-16 00:00:00</td>\n",
       "      <td>0.142569</td>\n",
       "    </tr>\n",
       "    <tr>\n",
       "      <th>21</th>\n",
       "      <td>2021-04-17 00:00:00</td>\n",
       "      <td>0.149648</td>\n",
       "    </tr>\n",
       "    <tr>\n",
       "      <th>22</th>\n",
       "      <td>2021-04-18 00:00:00</td>\n",
       "      <td>0.118595</td>\n",
       "    </tr>\n",
       "    <tr>\n",
       "      <th>23</th>\n",
       "      <td>2021-04-19 00:00:00</td>\n",
       "      <td>0.112272</td>\n",
       "    </tr>\n",
       "    <tr>\n",
       "      <th>24</th>\n",
       "      <td>2021-04-20 00:00:00</td>\n",
       "      <td>0.077684</td>\n",
       "    </tr>\n",
       "    <tr>\n",
       "      <th>25</th>\n",
       "      <td>2021-04-21 00:00:00</td>\n",
       "      <td>0.078592</td>\n",
       "    </tr>\n",
       "    <tr>\n",
       "      <th>26</th>\n",
       "      <td>2021-04-22 00:00:00</td>\n",
       "      <td>0.047177</td>\n",
       "    </tr>\n",
       "    <tr>\n",
       "      <th>27</th>\n",
       "      <td>2021-04-23 00:00:00</td>\n",
       "      <td>0.100574</td>\n",
       "    </tr>\n",
       "    <tr>\n",
       "      <th>28</th>\n",
       "      <td>2021-04-24 00:00:00</td>\n",
       "      <td>0.043767</td>\n",
       "    </tr>\n",
       "  </tbody>\n",
       "</table>\n",
       "</div>"
      ],
      "text/plain": [
       "                     시간      rate\n",
       "0   2021-03-27 00:00:00  0.760192\n",
       "1   2021-03-28 00:00:00  0.607472\n",
       "2   2021-03-29 00:00:00  0.482737\n",
       "3   2021-03-30 00:00:00  0.285438\n",
       "4   2021-03-31 00:00:00  0.382718\n",
       "5   2021-04-01 00:00:00  0.325967\n",
       "6   2021-04-02 00:00:00  0.309607\n",
       "7   2021-04-03 00:00:00  0.348668\n",
       "8   2021-04-04 00:00:00  0.377246\n",
       "9   2021-04-05 00:00:00  0.335703\n",
       "10  2021-04-06 00:00:00  0.368986\n",
       "11  2021-04-07 00:00:00  0.322988\n",
       "12  2021-04-08 00:00:00  0.327939\n",
       "13  2021-04-09 00:00:00  0.279908\n",
       "14  2021-04-10 00:00:00  0.289037\n",
       "15  2021-04-11 00:00:00  0.272394\n",
       "16  2021-04-12 00:00:00  0.235984\n",
       "17  2021-04-13 00:00:00  0.211420\n",
       "18  2021-04-14 00:00:00  0.213869\n",
       "19  2021-04-15 00:00:00  0.179065\n",
       "20  2021-04-16 00:00:00  0.142569\n",
       "21  2021-04-17 00:00:00  0.149648\n",
       "22  2021-04-18 00:00:00  0.118595\n",
       "23  2021-04-19 00:00:00  0.112272\n",
       "24  2021-04-20 00:00:00  0.077684\n",
       "25  2021-04-21 00:00:00  0.078592\n",
       "26  2021-04-22 00:00:00  0.047177\n",
       "27  2021-04-23 00:00:00  0.100574\n",
       "28  2021-04-24 00:00:00  0.043767"
      ]
     },
     "execution_count": 24,
     "metadata": {},
     "output_type": "execute_result"
    }
   ],
   "source": [
    "submissions[0]"
   ]
  }
 ],
 "metadata": {
  "kernelspec": {
   "display_name": "Python 3.9.2 64-bit",
   "language": "python",
   "name": "python3"
  },
  "language_info": {
   "codemirror_mode": {
    "name": "ipython",
    "version": 3
   },
   "file_extension": ".py",
   "mimetype": "text/x-python",
   "name": "python",
   "nbconvert_exporter": "python",
   "pygments_lexer": "ipython3",
   "version": "3.9.2"
  },
  "orig_nbformat": 4,
  "vscode": {
   "interpreter": {
    "hash": "a3ed41954a06e4e0f98917753a62971cca293100b187f3acd27413755c60deb2"
   }
  }
 },
 "nbformat": 4,
 "nbformat_minor": 2
}
